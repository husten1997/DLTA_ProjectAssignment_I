{
 "cells": [
  {
   "cell_type": "code",
   "execution_count": 1,
   "metadata": {
    "collapsed": true
   },
   "outputs": [],
   "source": [
    "# Install the required Packages for the Notebook\n",
    "!pip install git+git://github.com/mkrphys/ipython-tikzmagic.git"
   ]
  },
  {
   "cell_type": "code",
   "execution_count": 2,
   "metadata": {
    "pycharm": {
     "name": "#%%\n"
    }
   },
   "outputs": [],
   "source": [
    "# Load the required Packages for the Notebook\n",
    "%load_ext tikzmagic"
   ]
  },
  {
   "cell_type": "markdown",
   "metadata": {
    "pycharm": {
     "name": "#%% md\n"
    }
   },
   "source": [
    "# Project Assignment DLTA\n",
    "----------------------\n",
    "\n",
    "## Team information\n",
    "\n",
    "|Team-number :| 1|\n",
    "|:----:|:----:|\n",
    "\n",
    "\n",
    "|Name|    E-Mail        |matriculation-nr.|\n",
    "|:----:|:----:|:----:|\n",
    "|Student 1| Student1@uni-passau.de|1234567|\n",
    "|Student 2| Student2@uni-passau.de|2234567|\n",
    "|Student 3| Student3@uni-passau.de|3234567|\n",
    "|Student 4| Student4@uni-passau.de|4234567|\n",
    "|Student 5| Student5@uni-passau.de|5234567|\n",
    "\n",
    "---------------------"
   ]
  },
  {
   "cell_type": "markdown",
   "metadata": {},
   "source": [
    "## Introduction\n"
   ]
  },
  {
   "cell_type": "markdown",
   "source": [
    "### General Aim of the Project Assignment"
   ],
   "metadata": {
    "collapsed": false
   }
  },
  {
   "cell_type": "markdown",
   "source": [
    "### Data Import"
   ],
   "metadata": {
    "collapsed": false
   }
  },
  {
   "cell_type": "code",
   "execution_count": 8,
   "metadata": {
    "pycharm": {
     "name": "#%%\n"
    }
   },
   "outputs": [
    {
     "name": "stdout",
     "output_type": "stream",
     "text": [
      "---- Data Import finished ----\n"
     ]
    }
   ],
   "source": [
    "def import_data(dir):\n",
    "    import os\n",
    "    import numpy as np\n",
    "    import pandas as pd\n",
    "\n",
    "    file_path = os.path.join(dir, 'train.csv')\n",
    "    dtypes = {\n",
    "        'timestamp': np.int64,\n",
    "        'Asset_ID': np.int8,\n",
    "        'Count': np.int32,\n",
    "        'Open': np.float64,\n",
    "        'High': np.float64,\n",
    "        'Low': np.float64,\n",
    "        'Close': np.float64,\n",
    "        'Volume': np.float64,\n",
    "        'VWAP': np.float64,\n",
    "        'Target': np.float64,\n",
    "    }\n",
    "    data = pd.read_csv(file_path, dtype=dtypes, usecols=list(dtypes.keys()))\n",
    "    data['Time'] = pd.to_datetime(data['timestamp'], unit='s')\n",
    "\n",
    "    file_path = os.path.join(dir, 'asset_details.csv')\n",
    "    details = pd.read_csv(file_path)\n",
    "\n",
    "    data = pd.merge(data,\n",
    "                    details,\n",
    "                    on=\"Asset_ID\",\n",
    "                    how='left')\n",
    "\n",
    "    print(\"---- Data Import finished ----\")\n",
    "\n",
    "    return data\n",
    "\n",
    "data = import_data(\"../Data/\")"
   ]
  },
  {
   "cell_type": "markdown",
   "metadata": {},
   "source": [
    " TODO: Explanation of the Importfunction"
   ]
  },
  {
   "cell_type": "markdown",
   "metadata": {},
   "source": [
    "### Performance Evaluation\n"
   ]
  },
  {
   "cell_type": "code",
   "execution_count": 14,
   "metadata": {
    "pycharm": {
     "name": "#%%\n"
    }
   },
   "outputs": [],
   "source": [
    "def import_data(dir):\n",
    "    import os\n",
    "    import numpy as np\n",
    "    import pandas as pd\n",
    "\n",
    "    file_path = os.path.join(dir, 'train.csv')\n",
    "    dtypes = {\n",
    "        'timestamp': np.int64,\n",
    "        'Asset_ID': np.int8,\n",
    "        'Count': np.int32,\n",
    "        'Open': np.float64,\n",
    "        'High': np.float64,\n",
    "        'Low': np.float64,\n",
    "        'Close': np.float64,\n",
    "        'Volume': np.float64,\n",
    "        'VWAP': np.float64,\n",
    "        'Target': np.float64,\n",
    "    }\n",
    "    data = pd.read_csv(file_path, dtype=dtypes, usecols=list(dtypes.keys()))\n",
    "    data['Time'] = pd.to_datetime(data['timestamp'], unit='s')\n",
    "\n",
    "    file_path = os.path.join(dir, 'asset_details.csv')\n",
    "    details = pd.read_csv(file_path)\n",
    "\n",
    "    data = pd.merge(data,\n",
    "                    details,\n",
    "                    on=\"Asset_ID\",\n",
    "                    how='left')\n",
    "\n",
    "    return data\n",
    "\n",
    "def performanceEval(Y, Y_hat, preFix = \"\"):\n",
    "    import numpy as np\n",
    "    import matplotlib.pyplot as plt\n",
    "\n",
    "    Y = np.array(Y)\n",
    "    Y_hat = np.array(Y_hat)\n",
    "\n",
    "    u = Y.reshape((-1)) - Y_hat.reshape((-1))\n",
    "\n",
    "    print(preFix + \" corr(Y, Y_hat): \" + str(corr(Y, Y_hat)))\n",
    "    print(preFix + \" Bias(u): \" + str(Bias(Y, Y_hat)))\n",
    "    print(preFix + \" Var(u): \" + str(Var(Y, Y_hat)))\n",
    "    print(preFix + \" MSE(u): \" + str(MSE(Y, Y_hat)))\n",
    "\n",
    "    plt.plot(u, label='Residuals')\n",
    "    plt.title(preFix + 'Residuals over time (u x t)')\n",
    "    plt.xlabel(\"time\")\n",
    "    plt.ylabel(\"residuals\")\n",
    "    plt.legend()\n",
    "    plt.show()\n",
    "\n",
    "    plt.plot(u, Y_hat, 'bo', label='Residuals')\n",
    "    plt.title(preFix + 'Residual Plot (u x y.hat)')\n",
    "    plt.xlabel(\"residuals\")\n",
    "    plt.ylabel(\"predictions\")\n",
    "    plt.legend()\n",
    "    plt.show()\n",
    "\n",
    "    #return str(corr)\n",
    "    return {\"corr\": corr(Y, Y_hat), \"Bias\": Bias(Y, Y_hat), \"Var\": Var(Y, Y_hat), \"MSE\": MSE(Y, Y_hat)}\n",
    "\n",
    "def corr(Y, Y_hat):\n",
    "    import numpy as np\n",
    "\n",
    "    Y = np.array(Y).flatten()\n",
    "    Y_hat = np.array(Y_hat).flatten()\n",
    "\n",
    "    cov_matrix = np.cov(Y, Y_hat)\n",
    "\n",
    "    return cov_matrix[0, 1] / np.sqrt(cov_matrix[0, 0] * cov_matrix[1, 1])\n",
    "\n",
    "def Bias(Y, Y_hat):\n",
    "    import numpy as np\n",
    "\n",
    "    Y = np.array(Y).flatten()\n",
    "    Y_hat = np.array(Y_hat).flatten()\n",
    "\n",
    "    u = Y - Y_hat\n",
    "\n",
    "    return np.mean(u)\n",
    "\n",
    "def Var(Y, Y_hat):\n",
    "    import numpy as np\n",
    "\n",
    "    Y = np.array(Y).flatten()\n",
    "    Y_hat = np.array(Y_hat).flatten()\n",
    "\n",
    "    u = Y - Y_hat\n",
    "\n",
    "    return np.var(u)\n",
    "\n",
    "def MSE(Y, Y_hat):\n",
    "    return Bias(Y, Y_hat)**2 + Var(Y, Y_hat)"
   ]
  },
  {
   "cell_type": "markdown",
   "metadata": {},
   "source": [
    "=> TODO: Explanation of the Model valuation strategy\n",
    "For evaluating the forecast performance and for the purpose of model selection, there were two different metrics chosen. The first one bbeing the correlation between the predicted variable ($Y_{t+h}$) and the prediction ($\\hat{Y}_{t+h}$). The relational behind the correlation is twofold. First the correlation is also used as performance evaluation in the Kaggel Competition. Second the correlation, or rather the squared correlation, is well known in the context of regressions as the performance metric $R^2$. The correlation is implemented in the ````corr(Y, Y_hat)```` function."
   ]
  },
  {
   "cell_type": "markdown",
   "metadata": {},
   "source": [
    "$$ Cor(Y, \\hat{Y}) = \\frac{Cov(Y, \\hat{Y})}{\\sqrt{Var(Y) \\; Var(\\hat{Y})}} $$"
   ]
  },
  {
   "cell_type": "markdown",
   "metadata": {},
   "source": [
    "The second metric considered here is the Mean Squared (prediction) Error (MSE) and its elements Bias and Variance. The Bias allows for conclusions about the systematic prediction error of the model, while the variance allows for the assessment of prediction accuracy. The MSE is implemented in the ````MSE(Y, Y_hat)````function uses the returned values of the ````Bias(Y, Y_hat)```` and ````Var(Y, Y_hat)````functions."
   ]
  },
  {
   "cell_type": "markdown",
   "metadata": {},
   "source": [
    "$$ MSE(u) = Bias(u)^2 + Var(u) = \\left( \\frac{1}{N} \\sum_{i} u_i \\right)^2 + \\frac{1}{N-1} \\left( \\sum_{i} u_i^2 - \\frac{1}{N} \\left( \\sum_{i} u_i \\right) ^2 \\right) $$"
   ]
  },
  {
   "cell_type": "markdown",
   "metadata": {},
   "source": [
    "With the help of the function ````performanceEval(Y, Y_hat, preFix = \"\")```` the different evaluation metrics are then combined to one output. In addition, a $(u \\times t)$ and $(u \\times \\hat{Y})$ plot are plotted to draw conclusions about heteroscedasticity, variance clustering and omitted effects. The ````preFix```` parameter is used as prefix to plot titles and console outputs."
   ]
  },
  {
   "cell_type": "markdown",
   "metadata": {},
   "source": [
    "### Explorative Analysis of the Data"
   ]
  },
  {
   "cell_type": "markdown",
   "metadata": {},
   "source": [
    " => TODO: Descriptive Analysis"
   ]
  },
  {
   "cell_type": "markdown",
   "metadata": {},
   "source": [
    "## AR-Model\n"
   ]
  },
  {
   "cell_type": "markdown",
   "metadata": {},
   "source": [
    "### General Idea\n"
   ]
  },
  {
   "cell_type": "markdown",
   "metadata": {},
   "source": [
    "![ARRNN.png](ARRNN.png)"
   ]
  },
  {
   "cell_type": "markdown",
   "metadata": {},
   "source": [
    "Before the implementation is covered this section gives a brief overview over the background theory and rationals behind the first model, the AR-Model.\n",
    "The AR-Model is based on the fact, that in many financial time-series autocorrelation can be observed. In this case Autocorelation describes the fact that the correlation between the current period and previous periods is not equal to zero: $Cor(Y_t, Y_{t - h}) \\neq 0 \\; \\forall t$. Timeseries process with this feature are called autoregressive and can be formally written as"
   ]
  },
  {
   "cell_type": "markdown",
   "metadata": {},
   "source": [
    "$$ Y_t = \\beta_1 Y_{t - 1} + \\dots + \\beta_h Y_{t - h} + e_t \\quad \\text{with} \\quad \\beta_i \\neq 0, \\; e_t \\sim WN$$"
   ]
  },
  {
   "cell_type": "markdown",
   "metadata": {},
   "source": [
    "In summary these kinds of process explain the current state of a variable via information provided by the past states. In the context of the project assignment this means that future values of the target-variable are explained by previous or lagged values of itself. In practice, however, this approach comes with some drawbacks. Namely, that the target variable in period $t$ already incorporates the values of the price of period $t+1$ and $t+16$. As a result the last 15 observation of the target variable have to be dropped. Therefore, the prediction horizon was very long and the performance poor. To improve the prediction quality, the decision was made to use an indirect approach here. Indirect meaning, that instead of using lagged values of the target variable as input, lagged price values shall be used. This can be done, because the target variable depends mainly on the two prices $P_{t+1}$ and $P_{t+16}$. The indirect approach also offers the benefit that only one of the two predictions required for the target variable has a 15 periods forecast horizon. The other prediction only uses a one period forecast horizon. In theory, it should be easier to forecast $P_{t+1}$ more precisely than the prediction of $P_{t+16}$. Therefore, at least half of the information needed for calculating Target in period $t$ should be of higher quality. Due to the fact, that different transformations have to be applied to the price-series before it can actually be used in the NN, the term \"information equivalent\" will be used to describe the information of a specific timeseries, even though it might use another scale than the original prices.\n",
    "The proposed NN consists of two mayor parts. The first part will output predictions for the information equivalent of the price in period $t+1$ and $t+16$. In the next step a regression-type forward NN will use the predicted price information as inputs and estimates the target variable. In addition to these two major parts a third, minor part is included. Because of the large dataset the sequence-matrices required for estimating the price-prediction LSTM can be very huge. Therefore, an additional autoencoder is used to represent the price-sequence in a lower dimensional form. Lastly, to further increase the flexibility of the model and hyperparameter-tuning step, the two price-forecast are estimated with separate models. In summary this leads to following steps:\n",
    "1. Using the information equivalent of $P_t$ as input to the two separate input branches of the model as demonstrated in the figure above\n",
    "2. Decreasing the dimension of the sequence-matrix of the price information\n",
    "3. Using the aggregated sequence to predict the information equivalent of $P_{t+1}$ and $P_{t+16}$ (separately)\n",
    "4. combine the two price prediction models and feed the forecasted information equivalents of $\\hat{P}_{t+1}$ and $\\hat{P}_{t+16}$ to a forward NN\n",
    "5. predict the Target variable\n",
    "\n",
    "After the general idea and topology of the AR-Model were explained, the next section will cover the concrete implementation of the model."
   ]
  },
  {
   "cell_type": "markdown",
   "metadata": {},
   "source": [
    "### Model class"
   ]
  },
  {
   "cell_type": "code",
   "execution_count": 10,
   "metadata": {
    "pycharm": {
     "name": "#%%\n"
    }
   },
   "outputs": [],
   "source": [
    "import numpy as np\n",
    "import pandas as pd\n",
    "import tensorflow as tf\n",
    "from sklearn.ensemble import RandomForestRegressor\n",
    "from sklearn.feature_selection import SelectFromModel\n",
    "from sklearn.feature_selection import RFECV\n",
    "import matplotlib.pyplot as plt\n",
    "from sklearn.preprocessing import StandardScaler\n",
    "import time\n",
    "from datetime import datetime\n",
    "\n",
    "\n",
    "class AR_RNN_model:\n",
    "\n",
    "    featureSet = None\n",
    "\n",
    "    trainData, testData, evalData = None, None, None\n",
    "\n",
    "    trainDF, testDF, evalDF = None, None, None\n",
    "\n",
    "    dimRedMethod = None\n",
    "\n",
    "    weights = None\n",
    "\n",
    "    arOrder, outputDim, forecastSteps = None, None, None\n",
    "\n",
    "    Encoder, Decoder, Autoencoder = None, None, None\n",
    "\n",
    "    ARRNN_model = None\n",
    "\n",
    "    coinID, coinName = None, None\n",
    "\n",
    "    # Constructor, used to initialize the model object with all the necesarry parameters for the data preperation and\n",
    "    # also starts the data preperation\n",
    "    def __init__(self, data, arOrder, forecastSteps, coinID, dimRedMethod, outputDim = None, dimRedRatio = None, trainStart = \"01/05/2021\", evalStart = \"01/06/2021\"):  #timestamps = (1622505660 - (600000 * 0.5), 1622505660)\n",
    "\n",
    "        totimestamp = lambda s: np.int32(time.mktime(datetime.strptime(s, \"%d/%m/%Y\").timetuple()))\n",
    "\n",
    "        timestamps = (totimestamp(trainStart), totimestamp(evalStart))\n",
    "\n",
    "        self.arOrder = arOrder\n",
    "        self.forecastSteps = forecastSteps\n",
    "        self.coinID = coinID\n",
    "\n",
    "        self.setupData(data, coinID, timestamps)\n",
    "        self.generateFeatureSet()\n",
    "\n",
    "        self.dimRedMethod = dimRedMethod\n",
    "\n",
    "        if dimRedMethod != \"None\":\n",
    "            self.setOutputDim(outputDim, dimRedRatio)\n",
    "        else:\n",
    "            self.outputDim = arOrder\n",
    "\n",
    "\n",
    "    # Function to handle the logic of dim reduction, i.e. test if the desired output dimension is even possible,\n",
    "    # determine the reduction ratio (required for the average approach etc.)\n",
    "    def setOutputDim(self, outputDim = None, dimRedRatio = None):\n",
    "        if outputDim is None and dimRedRatio is None:\n",
    "            print(\"Please supply outputdim or dimReductionRatio\")\n",
    "            self.outputDim = 1\n",
    "        elif outputDim is None and dimRedRatio is not None:\n",
    "            if self.arOrder % dimRedRatio != 0:\n",
    "                print(\"The dim reduction ratio must be an integer factor of arOrder\")\n",
    "            else:\n",
    "                self.outputDim = self.arOrder / dimRedRatio\n",
    "        elif outputDim is not None and dimRedRatio is None:\n",
    "            self.outputDim = outputDim\n",
    "            #TODO: Implement test for integer devision\n",
    "\n",
    "\n",
    "    # Handles the data preparation, i.e. selecting the desired coin, selecting the desired range of data,\n",
    "    # splitting the dataset into train, test and evaluation datasets, data cleaning like dripping NAs and dropping\n",
    "    # not required columns\n",
    "    def setupData(self, data, coinID, timestamps, trainFraction = 0.7):\n",
    "        if len(timestamps) == 2:\n",
    "            data_eval = data[data.timestamp >= timestamps[1]]\n",
    "            data = data[(data.timestamp >= timestamps[0]) & (data.timestamp < timestamps[1])]\n",
    "        # 1.1.2021: 1609459200\n",
    "        # 1.1.2020: 1577836800\n",
    "\n",
    "        btc = data[data.Asset_ID == coinID]\n",
    "        btc.set_index('timestamp', inplace=True)\n",
    "        btc = btc.reindex(range(btc.index[0], btc.index[-1] + 60, 60), method='pad')\n",
    "        btc.sort_index(inplace=True)\n",
    "\n",
    "        btc_eval = data_eval[data_eval.Asset_ID == coinID]\n",
    "        btc_eval.set_index('timestamp', inplace=True)\n",
    "        btc_eval = btc_eval.reindex(range(btc_eval.index[0], btc_eval.index[-1] + 60, 60), method='pad')\n",
    "        btc_eval.sort_index(inplace=True)\n",
    "\n",
    "        training_size = int(np.floor(len(btc) * trainFraction))\n",
    "\n",
    "        self.trainData, self.testData = btc[:training_size], btc[training_size:]\n",
    "        self.evalData = btc_eval\n",
    "\n",
    "        # drop NAs\n",
    "        self.trainData.dropna(inplace=True)\n",
    "        self.testData.dropna(inplace=True)\n",
    "        self.evalData.dropna(inplace=True)\n",
    "\n",
    "        self.trainData = self.trainData.drop(['Asset_ID', 'Weight', 'Asset_Name'], axis=1)\n",
    "        self.testData = self.testData.drop(['Asset_ID', 'Weight', 'Asset_Name'], axis=1)\n",
    "        self.evalData = self.evalData.drop(['Asset_ID', 'Weight', 'Asset_Name'], axis=1)\n",
    "\n",
    "\n",
    "    # Handels the preparation of the three different featuresets, and combine X and Y data into a easy and accesible\n",
    "    # dataframe (including selection of the correct time frames)\n",
    "    def generateFeatureSet(self):\n",
    "        self.scaler_X = StandardScaler()\n",
    "        self.scaler_Y = StandardScaler()\n",
    "\n",
    "        trainData_X = self.trainData['Close'].diff().values.reshape(-1, 1)\n",
    "        testData_X = self.testData['Close'].diff().values.reshape(-1, 1)\n",
    "        evalData_X = self.evalData['Close'].diff().values.reshape(-1, 1)\n",
    "\n",
    "        trainData_X = self.scaler_X.fit_transform(trainData_X).flatten()[1:]\n",
    "        testData_X = self.scaler_X.transform(testData_X).flatten()[1:]\n",
    "        evalData_X = self.scaler_X.transform(evalData_X).flatten()[1:]\n",
    "\n",
    "        trainData_Y = self.trainData['Target'].values.reshape(-1, 1)\n",
    "        testData_Y = self.testData['Target'].values.reshape(-1, 1)\n",
    "        evalData_Y = self.evalData['Target'].values.reshape(-1, 1)\n",
    "\n",
    "        trainData_Y = self.scaler_Y.fit_transform(trainData_Y).flatten()[1:]\n",
    "        testData_Y = self.scaler_Y.transform(testData_Y).flatten()[1:]\n",
    "        evalData_Y = self.scaler_Y.transform(evalData_Y).flatten()[1:]\n",
    "\n",
    "        self.trainDF = pd.DataFrame(np.column_stack([trainData_X[15:-1], trainData_X[:-16], trainData_Y[16:]]))\n",
    "        self.trainDF.columns = ['P1', 'P16', 'Target']\n",
    "\n",
    "        self.testDF = pd.DataFrame(np.column_stack([testData_X[15:-1], testData_X[:-16], testData_Y[16:]]))\n",
    "        self.testDF.columns = ['P1', 'P16', 'Target']\n",
    "\n",
    "        self.evalDF = pd.DataFrame(np.column_stack([evalData_X[15:-1], evalData_X[:-16], evalData_Y[16:]]))\n",
    "        self.evalDF.columns = ['P1', 'P16', 'Target']\n",
    "\n",
    "\n",
    "    # Function which sets up the autoencoder required to reduce the feature matrix, aka the matrix with the sequences\n",
    "    def setupAutoencoder(self, config, input_dim = None, output_dim = None):\n",
    "        # define a recurrent network with Gated Recurrent Units\n",
    "\n",
    "        if input_dim is None:\n",
    "            input_dim = self.arOrder\n",
    "\n",
    "        if output_dim is None:\n",
    "            output_dim = self.outputDim\n",
    "\n",
    "        encoder_input = tf.keras.layers.Input(shape=(1,))\n",
    "\n",
    "        encoder_output = encoder_input\n",
    "        encoder_output = tf.keras.layers.RepeatVector(input_dim)(encoder_output)\n",
    "        encoder_output = tf.keras.layers.Flatten()(encoder_output)\n",
    "        encoder_output = tf.keras.layers.Dense(output_dim, activation = \"linear\")(encoder_output)\n",
    "\n",
    "        #TODO: Ausprobieren GRU\n",
    "        #TODO: Research machen ob Encoder/Decoder symetrisch aufgebaut sein müssen\n",
    "\n",
    "        encoder_output = tf.keras.layers.Reshape((output_dim, 1))(encoder_output)\n",
    "\n",
    "        self.Encoder = tf.keras.Model(inputs=encoder_input, outputs=encoder_output)\n",
    "        self.Encoder._name = \"Encoder\"\n",
    "\n",
    "        self.Encoder.summary()\n",
    "\n",
    "        decoder_input = tf.keras.layers.Input(shape=(output_dim, 1,))\n",
    "        decoder_output = decoder_input\n",
    "        decoder_output = tf.keras.layers.Flatten()(decoder_output)\n",
    "        #decoder_output = tf.keras.layers.GRU(1)(decoder_output)\n",
    "        decoder_output = tf.keras.layers.Dense(1, activation = \"linear\")(decoder_output)\n",
    "\n",
    "        self.Decoder = tf.keras.Model(inputs=decoder_input, outputs=decoder_output)\n",
    "        self.Decoder._name = \"Decoder\"\n",
    "        self.Decoder.summary()\n",
    "\n",
    "        self.Autoencoder = tf.keras.Sequential([self.Encoder, self.Decoder])\n",
    "        self.Autoencoder._name = \"Autoencoder\"\n",
    "\n",
    "        self.Autoencoder.compile(loss='mse', optimizer='adam')\n",
    "\n",
    "\n",
    "    # Function which sets up the autoencoder, this one is desinged be used with the KerasTuner\n",
    "    def setupAutoencoder_KerasTuner(self, hp, input_dim = None, output_dim = None):\n",
    "        # define a recurrent network with Gated Recurrent Units\n",
    "\n",
    "        if input_dim is None:\n",
    "            input_dim = self.arOrder\n",
    "\n",
    "        if output_dim is None:\n",
    "            output_dim = self.outputDim\n",
    "\n",
    "        encoder_input = tf.keras.layers.Input(shape=(1,))\n",
    "\n",
    "        encoder_output = encoder_input\n",
    "        encoder_output = tf.keras.layers.RepeatVector(input_dim)(encoder_output)\n",
    "        encoder_output = tf.keras.layers.Flatten()(encoder_output)\n",
    "        encoder_output = tf.keras.layers.Dense(output_dim, activation = \"linear\")(encoder_output)\n",
    "        encoder_output = tf.keras.layers.Reshape((output_dim, 1))(encoder_output)\n",
    "\n",
    "        self.Encoder = tf.keras.Model(inputs=encoder_input, outputs=encoder_output)\n",
    "        self.Encoder._name = \"Encoder\"\n",
    "\n",
    "        self.Encoder.summary()\n",
    "\n",
    "        decoder_input = tf.keras.layers.Input(shape=(output_dim, 1,))\n",
    "        decoder_output = decoder_input\n",
    "        decoder_output = tf.keras.layers.Flatten()(decoder_output)\n",
    "        decoder_output = tf.keras.layers.Dense(1, activation = \"linear\")(decoder_output)\n",
    "\n",
    "        self.Decoder = tf.keras.Model(inputs=decoder_input, outputs=decoder_output)\n",
    "        self.Decoder._name = \"Decoder\"\n",
    "        self.Decoder.summary()\n",
    "\n",
    "        self.Autoencoder = tf.keras.Sequential([self.Encoder, self.Decoder])\n",
    "        self.Autoencoder._name = \"Autoencoder\"\n",
    "\n",
    "        self.Autoencoder.compile(loss='mse', optimizer='adam')\n",
    "\n",
    "    # Function for feature selection via a RandomForest (depricated)\n",
    "    def featureSelectionRF(self, dataTrain, dataTest):\n",
    "        rf_model = RandomForestRegressor(random_state = 0)\n",
    "        rf_model.fit(dataTrain, dataTest.flatten())\n",
    "        # sel = SelectFromModel(RandomForestClassifier(n_estimators = 100))\n",
    "        # sel.fit(dataTrain, dataTest)\n",
    "        features = range(0, dataTrain.shape[1])\n",
    "\n",
    "        f_i = list(zip(features, rf_model.feature_importances_))\n",
    "        f_i.sort(key=lambda x: x[1])\n",
    "        plt.barh([x[0] for x in f_i], [x[1] for x in f_i])\n",
    "\n",
    "        plt.show()\n",
    "\n",
    "        rfe = RFECV(rf_model, cv=5, scoring=\"neg_mean_squared_error\")\n",
    "\n",
    "        rfe.fit(dataTrain, dataTest)\n",
    "\n",
    "        return rfe.get_support()\n",
    "\n",
    "    # Function which sets up the Model for prediction the information equivalent of P_t+1, should be used in the context\n",
    "    # of the KarasTuner which required a HyperParameter object as parameter\n",
    "    def buildP1Model_KerasTuner(self, hp):\n",
    "        model_P1_input = tf.keras.layers.Input(shape=(self.outputDim, 1,))\n",
    "\n",
    "        model_P1_output = model_P1_input\n",
    "\n",
    "\n",
    "        model_P1_output = tf.keras.layers.GRU(hp.Choice('P1_L1_LSTMUnits', [60, 120, 240]), return_sequences=True)(model_P1_output)\n",
    "\n",
    "        if hp.Boolean(\"P1_L1_dropoutBool\"):\n",
    "            model_P1_output = tf.keras.layers.Dropout(rate = hp.Choice('P1_L1_dropoutUnits', [0.1, 0.25, 0.5], parent_name=\"P1_L1_dropoutBool\", parent_values = True))(model_P1_output)\n",
    "\n",
    "        model_P1_output = tf.keras.layers.GRU(hp.Choice('P1_L2_LSTMUnits', [60, 120, 240]), return_sequences=False)(model_P1_output)\n",
    "\n",
    "        model_P1_output = tf.keras.layers.Dense(1)(model_P1_output)\n",
    "\n",
    "        model_P1 = tf.keras.Model(inputs=model_P1_input, outputs=model_P1_output)\n",
    "        model_P1._name = \"Model_P1\"\n",
    "\n",
    "        model_P1.compile(loss='mean_squared_error', optimizer='adam')\n",
    "        model_P1.summary()\n",
    "\n",
    "        return model_P1\n",
    "\n",
    "    # Function which sets up the Model for prediction the information equivalent of P_t+16, should be used in the context\n",
    "    # of the KarasTuner which required a HyperParameter object as parameter\n",
    "    def buildP16Model_KerasTuner(self, hp):\n",
    "        model_P16_input = tf.keras.layers.Input(shape=(self.outputDim, 1,))\n",
    "\n",
    "        model_P16_output = model_P16_input\n",
    "\n",
    "\n",
    "        model_P16_output = tf.keras.layers.GRU(hp.Choice('P16_L1_LSTMUnits', [60, 120, 240]), return_sequences=True)(model_P16_output)\n",
    "\n",
    "        if hp.Boolean(\"P16_L1_dropoutBool\"):\n",
    "            model_P16_output = tf.keras.layers.Dropout(rate = hp.Choice('P16_L1_dropoutUnits', [0.1, 0.25, 0.5], parent_name=\"P16_L1_dropoutBool\", parent_values = True))(model_P16_output)\n",
    "\n",
    "        model_P16_output = tf.keras.layers.GRU(hp.Choice('P16_L2_LSTMUnits', [60, 120, 240]), return_sequences=False)(model_P16_output)\n",
    "\n",
    "        model_P16_output = tf.keras.layers.Dense(1)(model_P16_output)\n",
    "\n",
    "        model_P16 = tf.keras.Model(inputs=model_P16_input, outputs=model_P16_output)\n",
    "        model_P16._name = \"Model_P2\"\n",
    "\n",
    "        model_P16.compile(loss='mean_squared_error', optimizer='adam')\n",
    "        model_P16.summary()\n",
    "\n",
    "        return model_P16\n",
    "\n",
    "    # Function which combines the price models with the autoencoder and combines the outputs of the price models and\n",
    "    # adds a FNN on top to approximate the functional relationship between price forecasts and target variable\n",
    "    def buildARRNN_KerasTuner(self, hp):\n",
    "        learning_rate_priceModels = hp.Float(\"lr_priceModels\", min_value=1e-4, max_value=1e-2, sampling=\"log\")\n",
    "        learning_rate = hp.Float(\"lr\", min_value=1e-4, max_value=1e-2, sampling=\"log\")\n",
    "\n",
    "        for layer in self.Encoder.layers:\n",
    "            layer.trainable = False\n",
    "\n",
    "        model_P1 = self.buildP1Model_KerasTuner(hp)\n",
    "        model_P16 = self.buildP16Model_KerasTuner(hp)\n",
    "\n",
    "        self.Encoder._name = \"Encoder_P1\"\n",
    "        model_P1_c = tf.keras.Sequential([self.Encoder, model_P1])\n",
    "\n",
    "        self.Encoder._name = \"Encoder_P16\"\n",
    "        model_P16_c = tf.keras.Sequential([self.Encoder, model_P16])\n",
    "\n",
    "        print(\"---- PreTraining P1/p16 Model ----\")\n",
    "        model_P1_c.compile(loss='mean_squared_error', optimizer=tf.keras.optimizers.Adam(learning_rate=learning_rate_priceModels))\n",
    "        model_P16_c.compile(loss='mean_squared_error', optimizer=tf.keras.optimizers.Adam(learning_rate=learning_rate_priceModels))\n",
    "\n",
    "        model_P1_c.fit(self.trainData['Close'].values[:-1], self.trainData['Close'].values[1:], epochs = 20, validation_data = (self.testData['Close'].values[:-1], self.testData['Close'].values[1:]), batch_size=1024)\n",
    "        model_P16_c.fit(self.trainData['Close'].values[:-16], self.trainData['Close'].values[16:], epochs = 20, validation_data = (self.testData['Close'].values[:-16], self.testData['Close'].values[16:]), batch_size=1024)\n",
    "\n",
    "        for layer in model_P1_c.layers:\n",
    "            layer.trainable = False\n",
    "\n",
    "        for layer in model_P16_c.layers:\n",
    "            layer.trainable = False\n",
    "\n",
    "        model_P1P16 = tf.keras.layers.concatenate([model_P1_c.output, model_P16_c.output])\n",
    "\n",
    "        model_out = model_P1P16\n",
    "\n",
    "        if hp.Boolean(\"ARRNN_TargetFNN_RNNLayer\"):\n",
    "            model_out = tf.keras.layers.RepeatVector(15)(model_out)\n",
    "            model_out = tf.keras.layers.GRU(5, return_sequences=True)(model_out)\n",
    "            model_out = tf.keras.layers.GRU(1, return_sequences=False)(model_out)\n",
    "\n",
    "        model_out = tf.keras.layers.Dense(hp.Choice('ARRNN_TargetFNN_FL1Units', [60, 120, 240]), activation=hp.Choice('ARRNN_TargetFNN_FL1Activation', [\"relu\", \"tanh\", \"linear\"]))(model_out)\n",
    "        model_out = tf.keras.layers.Dense(hp.Choice('ARRNN_TargetFNN_FL2Units', [60, 120, 240]), activation=hp.Choice('ARRNN_TargetFNN_FL2Activation', [\"relu\",\"tanh\", \"linear\"]))(model_out)\n",
    "        model_out = tf.keras.layers.Dense(1, activation=\"linear\")(model_out)\n",
    "\n",
    "        model = tf.keras.Model(inputs=[model_P1_c.input, model_P16_c.input], outputs=model_out)\n",
    "        model.compile(loss='mean_squared_error', optimizer=tf.keras.optimizers.Adam(learning_rate=learning_rate))\n",
    "\n",
    "        return model\n",
    "\n",
    "\n",
    "    def buildP1Model(self, config):\n",
    "        model_P1_input = tf.keras.layers.Input(shape=(self.outputDim, 1,))\n",
    "\n",
    "        model_P1_output = model_P1_input\n",
    "\n",
    "        model_P1_output = tf.keras.layers.LSTM(config['P1_L1_LSTMUnits'], return_sequences=True)(\n",
    "            model_P1_output)\n",
    "\n",
    "        if config[\"P1_L1_dropoutBool\"]:\n",
    "            model_P1_output = tf.keras.layers.Dropout(rate=config['P1_L1_dropoutUnits'])(\n",
    "                model_P1_output)\n",
    "\n",
    "            # TODO: Research was mehrere RNN Layer machen\n",
    "            # TODO: Konsolidationseffekt? Ist dann Encoder überhaupt vernünftig?\n",
    "        model_P1_output = tf.keras.layers.LSTM(config['P1_L2_LSTMUnits'],\n",
    "                                                   return_sequences=False)(model_P1_output)\n",
    "\n",
    "        model_P1_output = tf.keras.layers.Dense(1)(model_P1_output)\n",
    "\n",
    "        model_P1 = tf.keras.Model(inputs=model_P1_input, outputs=model_P1_output)\n",
    "        model_P1._name = \"Model_P1\"\n",
    "\n",
    "        model_P1.compile(loss='mean_squared_error', optimizer='adam')\n",
    "        model_P1.summary()\n",
    "\n",
    "        return model_P1\n",
    "\n",
    "\n",
    "    def buildP16Model(self, config):\n",
    "        model_P16_input = tf.keras.layers.Input(shape=(self.outputDim, 1,))\n",
    "\n",
    "        model_P16_output = model_P16_input\n",
    "\n",
    "        model_P16_output = tf.keras.layers.LSTM(config['P16_L1_LSTMUnits'], return_sequences=True)(\n",
    "            model_P16_output)\n",
    "\n",
    "        if config[\"P16_L1_dropoutBool\"]:\n",
    "            model_P16_output = tf.keras.layers.Dropout(rate=config['P16_L1_dropoutUnits'])(\n",
    "                model_P16_output)\n",
    "\n",
    "        model_P16_output = tf.keras.layers.LSTM(config['P16_L2_LSTMUnits'],\n",
    "                                                    return_sequences=False)(model_P16_output)\n",
    "\n",
    "        model_P16_output = tf.keras.layers.Dense(1)(model_P16_output)\n",
    "\n",
    "        model_P16 = tf.keras.Model(inputs=model_P16_input, outputs=model_P16_output)\n",
    "        model_P16._name = \"Model_P16\"\n",
    "\n",
    "        model_P16.compile(loss='mean_squared_error', optimizer='adam')\n",
    "        model_P16.summary()\n",
    "\n",
    "        return model_P16\n",
    "\n",
    "\n",
    "    def buildARRNN(self, config):\n",
    "        learning_rate_priceModels = config[\"lr_priceModels\"]\n",
    "        learning_rate = config['lr']\n",
    "\n",
    "        for layer in self.Encoder.layers:\n",
    "            layer.trainable = False\n",
    "\n",
    "        model_P1 = self.buildP1Model(config)\n",
    "        model_P16 = self.buildP16Model(config)\n",
    "\n",
    "\n",
    "\n",
    "        self.Encoder._name = \"Encoder_P1\"\n",
    "        model_P1_c = tf.keras.Sequential([self.Encoder, model_P1])\n",
    "\n",
    "        self.Encoder._name = \"Encoder_P16\"\n",
    "        model_P16_c = tf.keras.Sequential([self.Encoder, model_P16])\n",
    "\n",
    "        print(\"---- PreTraining P1/p16 Model ----\")\n",
    "        model_P1_c.compile(loss='mean_squared_error',\n",
    "                           optimizer=tf.keras.optimizers.Adam(learning_rate=learning_rate_priceModels))\n",
    "        model_P16_c.compile(loss='mean_squared_error',\n",
    "                            optimizer=tf.keras.optimizers.Adam(learning_rate=learning_rate_priceModels))\n",
    "\n",
    "        model_P1_c.fit(self.trainData['Close'].values[:-1], self.trainData['Close'].values[1:], epochs=20,\n",
    "                     validation_data=(self.testData['Close'].values[:-1], self.testData['Close'].values[1:]),\n",
    "                     batch_size=1024)\n",
    "        model_P16_c.fit(self.trainData['Close'].values[:-16], self.trainData['Close'].values[16:], epochs=20,\n",
    "                      validation_data=(self.testData['Close'].values[:-16], self.testData['Close'].values[16:]),\n",
    "                      batch_size=1024)\n",
    "\n",
    "        for layer in model_P1_c.layers:\n",
    "            layer.trainable = True\n",
    "\n",
    "        for layer in model_P16_c.layers:\n",
    "            layer.trainable = True\n",
    "\n",
    "        model_P1P16 = tf.keras.layers.concatenate([model_P1_c.output, model_P16_c.output])\n",
    "\n",
    "        model_out = model_P1P16\n",
    "\n",
    "        if config[\"ARRNN_TargetFNN_RNNLayer\"]:\n",
    "            model_out = tf.keras.layers.RepeatVector(15)(model_out)\n",
    "            model_out = tf.keras.layers.GRU(5, return_sequences=True)(model_out)\n",
    "            model_out = tf.keras.layers.GRU(1, return_sequences=False)(model_out)\n",
    "\n",
    "        model_out = tf.keras.layers.Dense(config['ARRNN_TargetFNN_FL1Units'],\n",
    "                                          activation=config['ARRNN_TargetFNN_FL1Activation'])(model_out)\n",
    "        model_out = tf.keras.layers.Dense(config['ARRNN_TargetFNN_FL2Units'],\n",
    "                                          activation=config['ARRNN_TargetFNN_FL2Activation'])(model_out)\n",
    "        model_out = tf.keras.layers.Dense(1, activation=\"linear\")(model_out)\n",
    "\n",
    "        model = tf.keras.Model(inputs=[model_P1_c.input, model_P16_c.input], outputs=model_out)\n",
    "        corr_loss = lambda y_true, y_pred: 1 - np.abs(np.corrcoef(y_true.flatten(), y_pred.flatten())[1, 0])\n",
    "\n",
    "        #model.compile(loss='mean_squared_error', optimizer=tf.keras.optimizers.Adam(learning_rate=learning_rate))\n",
    "        model.compile(loss=corr_loss, optimizer=tf.keras.optimizers.Adam(learning_rate=learning_rate))\n",
    "\n",
    "        model.summary()\n",
    "        tf.keras.utils.plot_model(model)\n",
    "\n",
    "        return model\n",
    "\n",
    "    # function which handels all the steps necessary for model building and estimation. Should be accesed from the \"outside\"\n",
    "    def setARRNN_model(self, method = \"Config\", config = None, epochs = 40):\n",
    "        self.setupAutoencoder(None)\n",
    "\n",
    "        if self.dimRedMethod == \"Average\":\n",
    "            dimRedRatio = int(self.arOrder / self.outputDim)\n",
    "\n",
    "            weights = np.zeros((self.arOrder, self.outputDim))\n",
    "\n",
    "            for j in range(self.outputDim):\n",
    "                for i in range(dimRedRatio):\n",
    "                    weights[(j * dimRedRatio) + i, j] = 1 / dimRedRatio\n",
    "\n",
    "            bias = np.zeros(self.outputDim)\n",
    "\n",
    "            self.Encoder.set_weights([weights, bias])\n",
    "\n",
    "        elif self.dimRedMethod == \"Autoencoder\":\n",
    "            self.Autoencoder.fit(self.trainDF['P1'], self.trainDF['P1'], epochs=20, validation_data=(self.testDF['P1'], self.testDF['P1']),\n",
    "                            batch_size=1024)\n",
    "\n",
    "        elif self.dimRedMethod == \"None\":\n",
    "            #self.setupAutoencoder(None, output_dim=self.arOrder)\n",
    "            weights = np.zeros((self.arOrder, self.arOrder))\n",
    "\n",
    "            for j in range(self.outputDim):\n",
    "                weights[j, j] = 1\n",
    "\n",
    "            bias = np.zeros(self.outputDim)\n",
    "\n",
    "            self.Encoder.set_weights([weights, bias])\n",
    "\n",
    "        else:\n",
    "            print(\"Unknown Method\")\n",
    "\n",
    "        if method == \"Tuner\":\n",
    "            import keras_tuner as kt\n",
    "\n",
    "            #tuner = kt.RandomSearch(self.buildARRNN_KerasTuner, objective='val_loss', max_trials=10)\n",
    "            tuner = kt.BayesianOptimization(self.buildARRNN_KerasTuner, objective='val_loss', max_trials=10, overwrite=True, project_name=\"ARRNN_tune\")\n",
    "\n",
    "            tuner.search(x = [self.trainDF['P1'], self.trainDF['P16']], y = self.trainDF['Target'], epochs = 10, validation_data=([self.testDF['P1'], self.testDF['P16']], self.testDF['Target']),\n",
    "                         batch_size = 1024)\n",
    "            self.ARRNN_model = tuner.get_best_models()[0]\n",
    "            self.tuner = tuner\n",
    "\n",
    "            history = self.ARRNN_model.fit(x=[self.trainDF['P1'], self.trainDF['P16']], y=self.trainDF['Target'],\n",
    "                                           epochs=epochs, validation_data=([self.testDF['P1'], self.testDF['P16']], self.testDF['Target']), batch_size=1024)\n",
    "\n",
    "            # History Plot\n",
    "            plt.plot(history.history['loss'], label='loss')\n",
    "            plt.plot(history.history['val_loss'], label='validation_loss')\n",
    "            plt.legend()\n",
    "            plt.show()\n",
    "\n",
    "        elif method == \"Config\":\n",
    "            if config is None:\n",
    "                config = {\n",
    "                        # Model P1\n",
    "                        'P1_L1_LSTMUnits': 240,\n",
    "                        \"P1_L1_dropoutBool\": True,\n",
    "                        'P1_L1_dropoutUnits': 0.25,\n",
    "                        \"P1_L2_LSTMBool\": True,\n",
    "                        'P1_L2_LSTMUnits': 120,\n",
    "                        # Model P16\n",
    "                        'P16_L1_LSTMUnits': 240,\n",
    "                        \"P16_L1_dropoutBool\": True,\n",
    "                        'P16_L1_dropoutUnits': 0.25,\n",
    "                        \"P16_L2_LSTMBool\": True,\n",
    "                        'P16_L2_LSTMUnits': 120,\n",
    "                        # Model TargetFNN\n",
    "                        \"ARRNN_TargetFNN_RNNLayer\": True,\n",
    "                        'ARRNN_TargetFNN_FL1Units': 120,\n",
    "                        'ARRNN_TargetFNN_FL1Activation': \"tanh\",\n",
    "                        'ARRNN_TargetFNN_FL2Units': 60,\n",
    "                        'ARRNN_TargetFNN_FL2Activation': \"tanh\",\n",
    "\n",
    "                        'lr': 1e-2,\n",
    "                        \"lr_priceModels\": 1e-2} # 0.00068464\n",
    "\n",
    "            self.ARRNN_model = self.buildARRNN(config)\n",
    "            history = self.ARRNN_model.fit(x = [self.trainDF['P1'], self.trainDF['P16']], y = self.trainDF['Target'], epochs = epochs, validation_data = ([self.testDF['P1'], self.testDF['P16']], self.testDF['Target']), batch_size=1024)\n",
    "\n",
    "            # History Plot\n",
    "            plt.plot(history.history['loss'], label='loss')\n",
    "            plt.plot(history.history['val_loss'], label='validation_loss')\n",
    "            plt.legend()\n",
    "            plt.show()\n",
    "\n",
    "        else:\n",
    "            print(\"Unknown Method\")\n",
    "\n",
    "    # function which returns the estimated model\n",
    "    def getARRNN_model(self):\n",
    "        return self.ARRNN_model\n",
    "\n",
    "    # function which returns the predicted values for the training, test and eval time series\n",
    "    def getFittedData(self, scaled = True):\n",
    "        Y_train_hat = self.ARRNN_model.predict([self.trainDF['P1'], self.trainDF['P16']])\n",
    "        Y_test_hat = self.ARRNN_model.predict([self.testDF['P1'], self.testDF['P16']])\n",
    "        Y_eval_hat = self.ARRNN_model.predict([self.evalDF['P1'], self.evalDF['P16']])\n",
    "\n",
    "        if not scaled:\n",
    "            Y_train_hat = self.scaler_Y.inverse_transform(Y_train_hat)\n",
    "            Y_test_hat = self.scaler_Y.inverse_transform(Y_test_hat)\n",
    "            Y_eval_hat = self.scaler_Y.inverse_transform(Y_eval_hat)\n",
    "\n",
    "        return Y_train_hat, Y_test_hat, Y_eval_hat"
   ]
  },
  {
   "cell_type": "markdown",
   "metadata": {},
   "source": [
    "#### Constructor\n",
    "The model class is build as follows. In the first part all the class-variables and the constructor is defines. The construcor takes all the required parameters for the data preparation as input. The most important parameters for the data preparation are the coin ID, the timewindow and the forecast steps which are ofcourse fixed to 15. Other parameters then determine the basics of model construction. For example the ```arOrder``` and ```outputDim``` determine the size of the sequence matrix before and after the encoder step. Alternatively the ```dimRedRatio``` can be set, which is an integer value by which the sequence matrix should be reduced (e.x. ```arOrder = 60``` and ```dimRedRatio = 4``` would lead to a ```outputDim = 60 / 4 = 15```). The variable ```dimRedMethod``` determines the method used for the dimension reduction step. Possible methods are dimension reduction via a NN (```dimRedMethod = \"autoencoder\"```), or via a averaging matrix (```dimRedMethod = \"average\"```) or without dimension reduction (```dimRedMethod = \"None\"```). The \"averaging\" and the \"none\" methods are obviously designed as special case of the weighting matrix provided by the autoencoder. For the \"none\" methode, the encoder was buidl with ```arOrder```input nodes and ```arOrder```output nodes and the weight matrix was replaced by a accordingly sized identity matrix. For the \"average\" method the weights' matrix was build as:"
   ]
  },
  {
   "cell_type": "markdown",
   "metadata": {},
   "source": [
    "$$ \\mathbf{W} = I_{(o \\times o)} \\otimes \\left( (1, \\cdots, 1)_{(1 \\times r)} \\frac{1}{r} \\right)^\\intercal \\quad \\text{with} \\; r = \\frac{a}{o} \\cap \\mathbb{N}$$\n",
    "where $\\otimes$ is the Kronecker-Product, $a$ is the ```arOrder``` or sequence size and $o$ is the ```outputDim``` and $r$ is the integer devision of $a$ and $r$. Simply put, if the arOrder is equal to 60 and the desired output dimension is 15 periods, we always use the (row-wise) average over 4 ($= \\frac{60}{15}$) columns to calculate one column of the reduced matrix.\n",
    "The constructed weights' matrix is then passed to the encoder in the estimation step. Before that the data preparation function ```setupData(...)``` is called to prepare the dataset."
   ]
  },
  {
   "cell_type": "markdown",
   "metadata": {},
   "source": [
    "#### Data Preparation"
   ]
  },
  {
   "cell_type": "markdown",
   "metadata": {},
   "source": [
    "The data preparation consists of two different steps. First, in the ```setupData(...)``` function, the coin is selected, then the time windows for training and evaluation data is set. The training data is then split into training and test dataset. Additionally, the timestamp is set as index for all the datasets and each of them is cleaned. This involves that NAs are removed and unused columns are dropped.\n",
    "In a second step, in the ```generateFeatureSet(...)``` function, different DataFrame are constructed for the three different datasets. As mentioned above the price data is used as input. For the sake of numerical stability, a sklearn standard-scaler is fitted. The standard-scaler uses one degree-of-freedom, therefore the first observations are dropped from the six transformed timeseries. Because we are predicting two prices in two models (with two separate inputs) there have to be two different price features. For predicting $P_{t+1}$ all closing data in the interval of $[1, T-1]$ is used. For predicting $P_{t+16}$ all closing data in the interval of $[1, T-16]$ has to be used. The two timeseries therefore do not have the same length. This is the reason why the first 15 periods of the closing-price series, used for predicting $P_{t+1}$, were dropped. Additionally, due to the fact that the price timeseries is usually not stationary, the first difference is calculated for both features.\n",
    "The target variable in period $t$ uses the predictions of $P_{t+16}$ and $P_{t+1}$. Therefor the required interval ranges here from $[16, T]$. The three timeseries are then combined into dataframes (for each dataset: training, test and evaluation) and saved.\n",
    "\n",
    "\n"
   ]
  },
  {
   "cell_type": "markdown",
   "metadata": {},
   "source": [
    "#### Model Building\n"
   ]
  },
  {
   "cell_type": "markdown",
   "metadata": {},
   "source": [
    "As described in the introductory chapter of the model description, there are four major parts of the model. Each part has its own distinctive function which handles the building of the respective part. First the autoencoder. In the ```setupAutoencoder(...)``` function the autoencoder is constructed. As mentioned previously, the autoencoder is used to reduce the sequence-matrix of the following price model, which will be described later."
   ]
  },
  {
   "cell_type": "markdown",
   "metadata": {},
   "source": [
    "![](ARRNN_autoencoder.png)"
   ]
  },
  {
   "cell_type": "markdown",
   "metadata": {},
   "source": [
    "The (linear) autoencoder is constructed as follows. Starting with the encoder, the price-series vector is used as input. With the help of a \"RepeatVector\"-layer a sequence matrix is constructed. Because only a single feature (namely the price) is used, the sequence matrix has the dimension $(b \\times a \\times 1)$ with $b$ being the batch-size, $a$ describes the ```arOrder``` or sequence-length. Because the last dimension is not needed for the \"Dense\"-layer, a \"Flatten\"-layer is applied such that the last dimension of the tensor is dropped. The result, a two-dimensional matrix, is then used as input to a \"Dense\"-layer. Because a regression type approximation/linear aggregation of the columns is desired, a linear activation function is used. After the \"Dense\"-layer the reduced matrix results. Because the RNN-layer in the following price models suspects a tensor with dimensions $(b \\times r \\times 1)$ a \"Reshape\"-layer is added to add the third dimension. The resulting tensor (denoted by $R_{(b \\times r \\times 1)}$ in the figure above) can then be re-transformed in the decoder or can be used as input to the price-models.\n",
    "The decoder firstly uses a \"Flatten\"-layer to transform the 3D tensor to a 2D matrix. After that the \"Dense\"-layer reduces the matrix to a vector which then can be used as reconstruction of the input price series.\n",
    "In summary the decoder is not symmetrical to the encoder, nevertheless because the decoding step is not needed after the encoder is fitted, this should not be an issue."
   ]
  },
  {
   "cell_type": "markdown",
   "metadata": {},
   "source": [
    "Next the price models will be discussed. The relevant functions ```buildP1Model(...)``` and  ```buildP16Model(...)``` are used to construct the seperat models for the one and 16 period prediction. The general network architecture for the two models is basically the same, the key difference is that both models can differ in terms of hyperparameters. Additionally, the inclusion of \"Dropout\"-layers is variable and can be optimized by the keras tuner. More on that in the next section."
   ]
  },
  {
   "cell_type": "markdown",
   "metadata": {},
   "source": [
    "![](ARRNN_pricemodels.png)"
   ]
  },
  {
   "cell_type": "markdown",
   "metadata": {},
   "source": [
    "As input the 3D tensor resulting from the encoder is used. It is fed to a \"LSTM\"-layer with a (currently) arbitrary amount of nodes $L_1$. Important is that the parameter ```return_sequence``` is set to True, so each node of the LSTM-layer returns one price-prediction. The resulting sequence-tensor is fed to another \"LSTM\"-layer with arbitrary length. Here only the prediction of the last node is used. The result is then passed to a \"Dense\"-layer with a single node to obtain a vector of price-predictions (one row for each period).\n",
    "In summary a multilayer LSTM network is used. The reasoning behind that is that multiple RNN-layers can capture different features of a timeseries like trend and seasonality. The multilayer RNN architecture therefore allows greater flexibility in approximating the timeseries process. Thus this architecture can be beneficial especially if one can expect to observe seasonality and (short term) trends in cryptocurrency prices, due to irrational behavior and hype.\n",
    "In order to prevent overfitting additional \"Dropout\"-layers can be added after each \"LSTM\"-layer. The inclusion of additional \"Dropout\"-layers as well as the amount of nodes in each layer is modeled via hyperparameters, therefore it will be discussed in greater details in the hyperparameter-tuning section.\n",
    "The whole model is estimated and tuned individually for each of the two price predictions.\n",
    "[TODO: Why using an LSTM not an GRU?]"
   ]
  },
  {
   "cell_type": "markdown",
   "metadata": {},
   "source": [
    "The resulting price predictions are then combined and used for estimating the target variable. The relevant network part is constructed in the ```buildARRNN(...)``` function. Before the network architecture can be discussed, the prerequisites have to be discussed.\n",
    "First the autoencoder is fitted and then all layers of the encoder part are frozen. This is done to avoid further optimization of the weights in the encoder layer after it is fitted. After that the encoder is combined with the two price models. After that a prefitting of the price models is done. The pre-fitting ensures that the price models actually predict the price, otherwise they are (just) an additional multi-layer RNN for preprocessing and transforming the price information before it is used to predict the target variable. After that the two price-models are combined and the target-NN is added. The NN for estimating the target is constructed as follows:\n"
   ]
  },
  {
   "cell_type": "markdown",
   "metadata": {},
   "source": [
    "![](ARRNN_targetmodel.png)"
   ]
  },
  {
   "cell_type": "markdown",
   "metadata": {},
   "source": [
    "The outputs of the price models are used as inputs. Then an optional RRN layer is used. This can be done to recreate the construction of the target-variable. The target variable uses moving-window averages over [TODO: for what is the moving window in the target-variable]. Again the keras tuner is used to make the decision whether to use the additional RNN layer or not. After that multiple \"Dense\"-layers are used to approximate the functional relationships between the target variable and the price predictions. The amount of neurons is again set by the keras-tuner and therefore covered in more detail in the tuner and hyperparameter optimization section. The mutli-layer architecture of the FNN-part is used to improve the flexibility and also cover non-linear relationships between the input variables and the target variable. The last layer consists of a \"Dense\"-layer with a single neuron, to obtain a single prediction per time-period. After the whole model is constructed, it is compiled with an MSE error and a variable learning rate which is also optimized by the keras-tuner.\n",
    "[TODO: activation functions]"
   ]
  },
  {
   "cell_type": "markdown",
   "metadata": {},
   "source": [
    "#### Model estimation and hyperparameter optimization\n"
   ]
  },
  {
   "cell_type": "markdown",
   "metadata": {},
   "source": [
    "The model estimation as well as the parameter tuning is handeld by the ```setARRNN_model(...)``` function.\n",
    "First things first, the autoencoder is set up. Next the weights of the encoder are set (or determined via estimation) according to the ```rimRedMethod```. Then the optimization approach is determine. One can estimate the model either with a fixed set of hyperparameters (```method = \"Config\"```) or determine an optimal set of hyperparameters with the help of the keras tuner package (```method = \"Tuner\"```). For the \"Tuner\" method the tuner has to be implemented first. Therefore, the keras_tuner package is imported. Then the required tuner object is constructed. In this case a \"BayesianOptimizer\" is chosen. because it has the advantage that it not only tests random combination of hyperparameter constellation. It rather tries to optimize the hyperparameter combination by looking at previous combinations and their performances. As objective the minimization of the validation loss is passed. That means, the optimal model is considered to be the model, which minimized the objective-function value when applied to the test dataset. Then the optimization is started with the ```search(...)``` function. It will try to determine the optimal hyperparameter combination within 10 trails. More trails can lead to the discovery of a better set of hyperparameters, but would also increase the computation time significantly. Therefore, only 10 trails where used.\n",
    "When the optimal model is determined, it will be fitted and re-estimated and saved as variable of the model object, after that a history-plot is generated and function ends.\n",
    "In order to construct the tuner object, a function which returns the model has to be created. Therefore, all model-building function, covered in the previous section, have a \"sibling\"-function with the postfix \"_KerasTuner\". Additionally, instead of a config dictionary which holds a static set of hyperparameters, a so-called hyperparameter object ```hp``` is passed as parameter to the respective function. Following all the model building function will be discussed again, this time however the role of the hyperparameters will be focused.\n",
    "First, the price models and the two functions ```buildP1Model_KerasTuner(...)``` and  ```buildP16Model_KerasTuner(...)``` are covered. Here the amounts of nodes in the first and second RNN layer (previously denoted as $L_1$ and $L_2$) are defined as hyperparameters. The range of possible values of both is the set $\\{ 60, 120, 240 \\}$. Therefore, the amount of nodes is always larger than the resulting sequence length of the encoder step. This means that the RNN should always \"unpack\" the linear approximation of the sequence, returned by the encoder. More nodes also lead to more flexibility and more ways to process the inherent information in the price-sequences. The keras tuner can then decide whether the second RNN layer should have more nodes (i.e. even higher representation of the information) or fewer nodes than the first layer (i.e. condensation of information).\n",
    "The second group if hyperparameters of the price models, is the optional inclusion of dropout layers after each RNN layer. This is done to prevent overfitting and can therefore lead to better performance for out-of-sample prediction. Next to the inclusion, also dropout rate can be chosen by the keras tuner. Possible values range from 10% of the nodes to 50% of the nodes.\n",
    "\n",
    "Second the target model and the ```buildARRNN_KerasTuner(...)``` function are discussed. The first two hyperparameters are the learning rate of the price models and the learning rate of the whole model. The learning rate can help with reaching optimal estimations for the weights fast as well as minimizing the risk of \"overshooting\" the optimal weights. The range for learning range is set between $ 1 * 10^{-2}$ and $1 * 10^{-4}$.\n",
    "\n",
    "The next hyperparameter is the inclusion of a RNN layer for the target-model. The reasoning is that the target uses 15-day averages of certain variables and to replicate a RNN layer with a sequence length of 15 could be added. For grater flexibility a multi-layer RNN is implemented which condenses the information of 15 time-periods to a single estimation. After that a multi-layer forward NN is used to estimate the functional relationship between prices and the target.\n",
    "Multiple settings where defined as hyperparameters here. Again the amount of nodes can be varied by the keras tuner, between 60 and 240 nodes are possible. This can again lead to a condensation of information or finer separation.\n",
    "The aim here is a regression type estimation, but with the added flexibility of accounting for nonlinear relationships, too. Therefore, the set of possible activation function consists of non-linear transformations (namely \"relu\" and \"tanh\") and linear transformation. The last layer however always uses a linear activation function.\n"
   ]
  },
  {
   "cell_type": "markdown",
   "metadata": {},
   "source": [
    "### Results"
   ]
  },
  {
   "cell_type": "markdown",
   "metadata": {},
   "source": [
    "#### Coin: Dogecoin"
   ]
  },
  {
   "cell_type": "markdown",
   "source": [
    "First the model is estimated for the crypto currency doggycoin with the coinID 4."
   ],
   "metadata": {
    "collapsed": false
   }
  },
  {
   "cell_type": "code",
   "execution_count": 11,
   "metadata": {
    "pycharm": {
     "name": "#%%\n"
    }
   },
   "outputs": [
    {
     "name": "stdout",
     "output_type": "stream",
     "text": [
      "Trial 10 Complete [00h 01m 09s]\n",
      "val_loss: 0.6195813417434692\n",
      "\n",
      "Best val_loss So Far: 0.618934690952301\n",
      "Total elapsed time: 00h 11m 11s\n",
      "INFO:tensorflow:Oracle triggered exit\n",
      "Model: \"Model_P1\"\n",
      "_________________________________________________________________\n",
      " Layer (type)                Output Shape              Param #   \n",
      "=================================================================\n",
      " input_1 (InputLayer)        [(None, 15, 1)]           0         \n",
      "                                                                 \n",
      " gru (GRU)                   (None, 15, 240)           174960    \n",
      "                                                                 \n",
      " gru_1 (GRU)                 (None, 60)                54360     \n",
      "                                                                 \n",
      " dense (Dense)               (None, 1)                 61        \n",
      "                                                                 \n",
      "=================================================================\n",
      "Total params: 229,381\n",
      "Trainable params: 229,381\n",
      "Non-trainable params: 0\n",
      "_________________________________________________________________\n",
      "Model: \"Model_P2\"\n",
      "_________________________________________________________________\n",
      " Layer (type)                Output Shape              Param #   \n",
      "=================================================================\n",
      " input_2 (InputLayer)        [(None, 15, 1)]           0         \n",
      "                                                                 \n",
      " gru_2 (GRU)                 (None, 15, 240)           174960    \n",
      "                                                                 \n",
      " gru_3 (GRU)                 (None, 120)               130320    \n",
      "                                                                 \n",
      " dense_1 (Dense)             (None, 1)                 121       \n",
      "                                                                 \n",
      "=================================================================\n",
      "Total params: 305,401\n",
      "Trainable params: 305,401\n",
      "Non-trainable params: 0\n",
      "_________________________________________________________________\n",
      "---- PreTraining P1/p16 Model ----\n",
      "Epoch 1/20\n",
      "7/7 [==============================] - 2s 190ms/step - loss: 0.1016 - val_loss: 0.0661\n",
      "Epoch 2/20\n",
      "7/7 [==============================] - 1s 169ms/step - loss: 0.0681 - val_loss: 0.0404\n",
      "Epoch 3/20\n",
      "7/7 [==============================] - 1s 167ms/step - loss: 0.0407 - val_loss: 0.0201\n",
      "Epoch 4/20\n",
      "7/7 [==============================] - 1s 170ms/step - loss: 0.0194 - val_loss: 0.0061\n",
      "Epoch 5/20\n",
      "7/7 [==============================] - 1s 166ms/step - loss: 0.0055 - val_loss: 1.9811e-04\n",
      "Epoch 6/20\n",
      "7/7 [==============================] - 1s 170ms/step - loss: 4.4311e-04 - val_loss: 0.0015\n",
      "Epoch 7/20\n",
      "7/7 [==============================] - 1s 170ms/step - loss: 0.0011 - val_loss: 0.0029\n",
      "Epoch 8/20\n",
      "7/7 [==============================] - 1s 181ms/step - loss: 0.0011 - val_loss: 0.0014\n",
      "Epoch 9/20\n",
      "7/7 [==============================] - 1s 169ms/step - loss: 2.9578e-04 - val_loss: 3.4962e-04\n",
      "Epoch 10/20\n",
      "7/7 [==============================] - 1s 175ms/step - loss: 1.6871e-04 - val_loss: 9.7960e-05\n",
      "Epoch 11/20\n",
      "7/7 [==============================] - 1s 173ms/step - loss: 2.3199e-04 - val_loss: 1.0991e-04\n",
      "Epoch 12/20\n",
      "7/7 [==============================] - 1s 171ms/step - loss: 1.8044e-04 - val_loss: 2.4289e-04\n",
      "Epoch 13/20\n",
      "7/7 [==============================] - 1s 171ms/step - loss: 1.3869e-04 - val_loss: 4.0507e-04\n",
      "Epoch 14/20\n",
      "7/7 [==============================] - 1s 173ms/step - loss: 1.4166e-04 - val_loss: 4.4971e-04\n",
      "Epoch 15/20\n",
      "7/7 [==============================] - 1s 181ms/step - loss: 1.4093e-04 - val_loss: 3.9073e-04\n",
      "Epoch 16/20\n",
      "7/7 [==============================] - 1s 183ms/step - loss: 1.3537e-04 - val_loss: 3.2767e-04\n",
      "Epoch 17/20\n",
      "7/7 [==============================] - 1s 181ms/step - loss: 1.3494e-04 - val_loss: 3.0757e-04\n",
      "Epoch 18/20\n",
      "7/7 [==============================] - 1s 172ms/step - loss: 1.3497e-04 - val_loss: 3.1951e-04\n",
      "Epoch 19/20\n",
      "7/7 [==============================] - 1s 170ms/step - loss: 1.3414e-04 - val_loss: 3.3857e-04\n",
      "Epoch 20/20\n",
      "7/7 [==============================] - 1s 170ms/step - loss: 1.3394e-04 - val_loss: 3.4908e-04\n",
      "Epoch 1/20\n",
      "7/7 [==============================] - 3s 231ms/step - loss: 0.0961 - val_loss: 0.0612\n",
      "Epoch 2/20\n",
      "7/7 [==============================] - 1s 209ms/step - loss: 0.0615 - val_loss: 0.0343\n",
      "Epoch 3/20\n",
      "7/7 [==============================] - 1s 216ms/step - loss: 0.0327 - val_loss: 0.0133\n",
      "Epoch 4/20\n",
      "7/7 [==============================] - 1s 212ms/step - loss: 0.0113 - val_loss: 0.0014\n",
      "Epoch 5/20\n",
      "7/7 [==============================] - 2s 218ms/step - loss: 0.0011 - val_loss: 0.0012\n",
      "Epoch 6/20\n",
      "7/7 [==============================] - 1s 212ms/step - loss: 0.0015 - val_loss: 0.0038\n",
      "Epoch 7/20\n",
      "7/7 [==============================] - 1s 214ms/step - loss: 0.0016 - val_loss: 0.0015\n",
      "Epoch 8/20\n",
      "7/7 [==============================] - 1s 219ms/step - loss: 2.9723e-04 - val_loss: 1.7906e-04\n",
      "Epoch 9/20\n",
      "7/7 [==============================] - 1s 212ms/step - loss: 2.3382e-04 - val_loss: 2.8552e-05\n",
      "Epoch 10/20\n",
      "7/7 [==============================] - 1s 208ms/step - loss: 2.9950e-04 - val_loss: 6.9942e-05\n",
      "Epoch 11/20\n",
      "7/7 [==============================] - 1s 218ms/step - loss: 1.6458e-04 - val_loss: 2.7625e-04\n",
      "Epoch 12/20\n",
      "7/7 [==============================] - 1s 214ms/step - loss: 1.2935e-04 - val_loss: 4.5782e-04\n",
      "Epoch 13/20\n",
      "7/7 [==============================] - 1s 213ms/step - loss: 1.4185e-04 - val_loss: 4.1143e-04\n",
      "Epoch 14/20\n",
      "7/7 [==============================] - 2s 233ms/step - loss: 1.2647e-04 - val_loss: 2.9020e-04\n",
      "Epoch 15/20\n",
      "7/7 [==============================] - 1s 216ms/step - loss: 1.2286e-04 - val_loss: 2.4016e-04\n",
      "Epoch 16/20\n",
      "7/7 [==============================] - 1s 206ms/step - loss: 1.2397e-04 - val_loss: 2.5931e-04\n",
      "Epoch 17/20\n",
      "7/7 [==============================] - 1s 209ms/step - loss: 1.2162e-04 - val_loss: 2.9700e-04\n",
      "Epoch 18/20\n",
      "7/7 [==============================] - 1s 219ms/step - loss: 1.2140e-04 - val_loss: 3.1181e-04\n",
      "Epoch 19/20\n",
      "7/7 [==============================] - 1s 218ms/step - loss: 1.2123e-04 - val_loss: 2.9763e-04\n",
      "Epoch 20/20\n",
      "7/7 [==============================] - 1s 214ms/step - loss: 1.2073e-04 - val_loss: 2.8303e-04\n",
      "Epoch 1/40\n",
      "7/7 [==============================] - 4s 235ms/step - loss: 0.9974 - val_loss: 0.6223\n",
      "Epoch 2/40\n",
      "7/7 [==============================] - 1s 140ms/step - loss: 0.9969 - val_loss: 0.6197\n",
      "Epoch 3/40\n",
      "7/7 [==============================] - 1s 142ms/step - loss: 0.9968 - val_loss: 0.6202\n",
      "Epoch 4/40\n",
      "7/7 [==============================] - 1s 140ms/step - loss: 0.9972 - val_loss: 0.6191\n",
      "Epoch 5/40\n",
      "7/7 [==============================] - 1s 144ms/step - loss: 0.9969 - val_loss: 0.6190\n",
      "Epoch 6/40\n",
      "7/7 [==============================] - 1s 144ms/step - loss: 0.9968 - val_loss: 0.6207\n",
      "Epoch 7/40\n",
      "7/7 [==============================] - 1s 139ms/step - loss: 0.9966 - val_loss: 0.6210\n",
      "Epoch 8/40\n",
      "7/7 [==============================] - 1s 142ms/step - loss: 0.9965 - val_loss: 0.6193\n",
      "Epoch 9/40\n",
      "7/7 [==============================] - 1s 140ms/step - loss: 0.9965 - val_loss: 0.6205\n",
      "Epoch 10/40\n",
      "7/7 [==============================] - 1s 148ms/step - loss: 0.9968 - val_loss: 0.6192\n",
      "Epoch 11/40\n",
      "7/7 [==============================] - 1s 141ms/step - loss: 0.9968 - val_loss: 0.6216\n",
      "Epoch 12/40\n",
      "7/7 [==============================] - 1s 147ms/step - loss: 0.9969 - val_loss: 0.6187\n",
      "Epoch 13/40\n",
      "7/7 [==============================] - 1s 141ms/step - loss: 0.9967 - val_loss: 0.6205\n",
      "Epoch 14/40\n",
      "7/7 [==============================] - 1s 143ms/step - loss: 0.9971 - val_loss: 0.6221\n",
      "Epoch 15/40\n",
      "7/7 [==============================] - 1s 140ms/step - loss: 0.9962 - val_loss: 0.6186\n",
      "Epoch 16/40\n",
      "7/7 [==============================] - 1s 143ms/step - loss: 0.9967 - val_loss: 0.6199\n",
      "Epoch 17/40\n",
      "7/7 [==============================] - 1s 140ms/step - loss: 0.9968 - val_loss: 0.6219\n",
      "Epoch 18/40\n",
      "7/7 [==============================] - 1s 141ms/step - loss: 0.9967 - val_loss: 0.6191\n",
      "Epoch 19/40\n",
      "7/7 [==============================] - 1s 140ms/step - loss: 0.9963 - val_loss: 0.6202\n",
      "Epoch 20/40\n",
      "7/7 [==============================] - 1s 138ms/step - loss: 0.9976 - val_loss: 0.6209\n",
      "Epoch 21/40\n",
      "7/7 [==============================] - 1s 140ms/step - loss: 0.9963 - val_loss: 0.6190\n",
      "Epoch 22/40\n",
      "7/7 [==============================] - 1s 161ms/step - loss: 0.9969 - val_loss: 0.6206\n",
      "Epoch 23/40\n",
      "7/7 [==============================] - 1s 141ms/step - loss: 0.9968 - val_loss: 0.6212\n",
      "Epoch 24/40\n",
      "7/7 [==============================] - 1s 138ms/step - loss: 0.9964 - val_loss: 0.6190\n",
      "Epoch 25/40\n",
      "7/7 [==============================] - 1s 139ms/step - loss: 0.9968 - val_loss: 0.6204\n",
      "Epoch 26/40\n",
      "7/7 [==============================] - 1s 141ms/step - loss: 0.9962 - val_loss: 0.6195\n",
      "Epoch 27/40\n",
      "7/7 [==============================] - 1s 139ms/step - loss: 0.9963 - val_loss: 0.6202\n",
      "Epoch 28/40\n",
      "7/7 [==============================] - 1s 145ms/step - loss: 0.9967 - val_loss: 0.6203\n",
      "Epoch 29/40\n",
      "7/7 [==============================] - 1s 141ms/step - loss: 0.9965 - val_loss: 0.6193\n",
      "Epoch 30/40\n",
      "7/7 [==============================] - 1s 149ms/step - loss: 0.9967 - val_loss: 0.6206\n",
      "Epoch 31/40\n",
      "7/7 [==============================] - 1s 144ms/step - loss: 0.9967 - val_loss: 0.6195\n",
      "Epoch 32/40\n",
      "7/7 [==============================] - 1s 141ms/step - loss: 0.9966 - val_loss: 0.6191\n",
      "Epoch 33/40\n",
      "7/7 [==============================] - 1s 139ms/step - loss: 0.9962 - val_loss: 0.6203\n",
      "Epoch 34/40\n",
      "7/7 [==============================] - 1s 144ms/step - loss: 0.9967 - val_loss: 0.6206\n",
      "Epoch 35/40\n",
      "7/7 [==============================] - 1s 141ms/step - loss: 0.9965 - val_loss: 0.6195\n",
      "Epoch 36/40\n",
      "7/7 [==============================] - 1s 147ms/step - loss: 0.9963 - val_loss: 0.6194\n",
      "Epoch 37/40\n",
      "7/7 [==============================] - 1s 141ms/step - loss: 0.9962 - val_loss: 0.6200\n",
      "Epoch 38/40\n",
      "7/7 [==============================] - 1s 141ms/step - loss: 0.9962 - val_loss: 0.6197\n",
      "Epoch 39/40\n",
      "7/7 [==============================] - 1s 142ms/step - loss: 0.9966 - val_loss: 0.6199\n",
      "Epoch 40/40\n",
      "7/7 [==============================] - 1s 142ms/step - loss: 0.9967 - val_loss: 0.6199\n"
     ]
    },
    {
     "data": {
      "text/plain": "<Figure size 432x288 with 1 Axes>",
      "image/png": "[encoded data removed]"
     },
     "metadata": {
      "needs_background": "light"
     },
     "output_type": "display_data"
    }
   ],
   "source": [
    "ARRNN_mod = AR_RNN_model(data, arOrder=60, forecastSteps=15, coinID=4, dimRedMethod='Autoencoder', outputDim=15, trainStart = \"25/05/2021\", evalStart = \"01/06/2021\")\n",
    "\n",
    "ARRNN_mod.setARRNN_model(method=\"Tuner\")"
   ]
  },
  {
   "cell_type": "markdown",
   "source": [],
   "metadata": {
    "collapsed": false
   }
  },
  {
   "cell_type": "markdown",
   "source": [
    "In order to estimate the model, first the ARRNN model is set up. The ```arOrder``` is set to 60, which means that the last hour of data should be used to predict the next 15 minutes. Accordingly, the ```forecastStep``` is set to 15. Additionally, the ```outputDim``` parameter which determines the size of the reduced sequence matrix is set to 15. As ```dimRedMethod``` the Autoencoder is used. The results for the other methods can be obtained from the table below.\n",
    "Afterwards the model is fitted. For that the ```setARRNN_model(...)``` function is called with the ```method``` parameter set to \"Tuner\", so the best set of hyperparameters is obtained with the help of the keras tuner."
   ],
   "metadata": {
    "collapsed": false
   }
  },
  {
   "cell_type": "code",
   "execution_count": 12,
   "outputs": [
    {
     "data": {
      "text/plain": "{'lr_priceModels': 0.0001,\n 'lr': 0.01,\n 'P1_L1_LSTMUnits': 240,\n 'P1_L1_dropoutBool': False,\n 'P1_L2_LSTMUnits': 60,\n 'P16_L1_LSTMUnits': 240,\n 'P16_L1_dropoutBool': False,\n 'P16_L2_LSTMUnits': 120,\n 'ARRNN_TargetFNN_RNNLayer': True,\n 'ARRNN_TargetFNN_FL1Units': 60,\n 'ARRNN_TargetFNN_FL1Activation': 'relu',\n 'ARRNN_TargetFNN_FL2Units': 60,\n 'ARRNN_TargetFNN_FL2Activation': 'relu'}"
     },
     "execution_count": 12,
     "metadata": {},
     "output_type": "execute_result"
    }
   ],
   "source": [
    "ARRNN_mod.tuner.get_best_hyperparameters()[0].values"
   ],
   "metadata": {
    "collapsed": false,
    "pycharm": {
     "name": "#%%\n"
    }
   }
  },
  {
   "cell_type": "markdown",
   "source": [
    "Regarding the chosen hyperparameters"
   ],
   "metadata": {
    "collapsed": false
   }
  },
  {
   "cell_type": "code",
   "execution_count": 15,
   "outputs": [
    {
     "name": "stdout",
     "output_type": "stream",
     "text": [
      "In-Sample  corr(Y, Y_hat): 0.04876522771593123\n",
      "In-Sample  Bias(u): 0.0017694861992008527\n",
      "In-Sample  Var(u): 0.9960353113082604\n",
      "In-Sample  MSE(u): 0.9960384423896695\n"
     ]
    },
    {
     "data": {
      "text/plain": "<Figure size 432x288 with 1 Axes>",
      "image/png": "[encoded data removed]"
     },
     "metadata": {
      "needs_background": "light"
     },
     "output_type": "display_data"
    },
    {
     "data": {
      "text/plain": "<Figure size 432x288 with 1 Axes>",
      "image/png": "[encoded data removed]"
     },
     "metadata": {
      "needs_background": "light"
     },
     "output_type": "display_data"
    },
    {
     "name": "stdout",
     "output_type": "stream",
     "text": [
      "Out-of-Sample  corr(Y, Y_hat): 0.05049756569318642\n",
      "Out-of-Sample  Bias(u): 0.039469564887366075\n",
      "Out-of-Sample  Var(u): 0.6183074068770997\n",
      "Out-of-Sample  MSE(u): 0.6198652534294977\n"
     ]
    },
    {
     "data": {
      "text/plain": "<Figure size 432x288 with 1 Axes>",
      "image/png": "[encoded data removed]"
     },
     "metadata": {
      "needs_background": "light"
     },
     "output_type": "display_data"
    },
    {
     "data": {
      "text/plain": "<Figure size 432x288 with 1 Axes>",
      "image/png": "[encoded data removed]"
     },
     "metadata": {
      "needs_background": "light"
     },
     "output_type": "display_data"
    },
    {
     "name": "stdout",
     "output_type": "stream",
     "text": [
      "True Out-of-Sample  corr(Y, Y_hat): 0.0013284251620304935\n",
      "True Out-of-Sample  Bias(u): 0.03128120125993203\n",
      "True Out-of-Sample  Var(u): 0.9848013166080379\n",
      "True Out-of-Sample  MSE(u): 0.9857798301603024\n"
     ]
    },
    {
     "data": {
      "text/plain": "<Figure size 432x288 with 1 Axes>",
      "image/png": "[encoded data removed]"
     },
     "metadata": {
      "needs_background": "light"
     },
     "output_type": "display_data"
    },
    {
     "data": {
      "text/plain": "<Figure size 432x288 with 1 Axes>",
      "image/png": "[encoded data removed]"
     },
     "metadata": {
      "needs_background": "light"
     },
     "output_type": "display_data"
    },
    {
     "data": {
      "text/plain": "{'corr': 0.0013284251620304935,\n 'Bias': 0.03128120125993203,\n 'Var': 0.9848013166080379,\n 'MSE': 0.9857798301603024}"
     },
     "execution_count": 15,
     "metadata": {},
     "output_type": "execute_result"
    }
   ],
   "source": [
    "Y_train_hat, Y_test_hat, Y_eval_hat = ARRNN_mod.getFittedData()\n",
    "Y_train, Y_test, Y_eval = ARRNN_mod.trainDF['Target'], ARRNN_mod.testDF['Target'], ARRNN_mod.evalDF['Target']\n",
    "\n",
    "performanceEval(Y_train, Y_train_hat, \"In-Sample \")\n",
    "performanceEval(Y_test, Y_test_hat, \"Out-of-Sample \")\n",
    "performanceEval(Y_eval, Y_eval_hat, \"True Out-of-Sample \")\n",
    "print(\"\")"
   ],
   "metadata": {
    "collapsed": false,
    "pycharm": {
     "name": "#%%\n"
    }
   }
  },
  {
   "cell_type": "markdown",
   "metadata": {},
   "source": [
    "=> TODO: Description of results"
   ]
  },
  {
   "cell_type": "markdown",
   "source": [
    "| Timewindow | Dataset | Autoencoder | Average |   None  |\n",
    "|:----------:|:-------:|:-----------:|:-------:|:-------:|\n",
    "| 1 week     | train   | 0,0778      | 0,0684  | 0,0451  |\n",
    "|            | test    | 0,0123      | -0,0022 | 0,0325  |\n",
    "|            | eval    | -0,0033     | 0,0145  | -0,0021 |\n",
    "| 1 month    | train   | 0,0893      | 0,0693  | 0,0773  |\n",
    "|            | test    | 0,0074      | 0,0497  | 0,0319  |\n",
    "|            | eval    | 0,0464      | 0,0248  | 0,0501  |\n",
    "\n",
    "*Correlation Results for coinID = 4, different dimension reduction methods and timewindows (or length of dataset)*"
   ],
   "metadata": {
    "collapsed": false,
    "pycharm": {
     "name": "#%% md\n"
    }
   }
  },
  {
   "cell_type": "markdown",
   "source": [
    "The correlation results of the model, for different time-periods and dimension reduction methods vary heavily. In general the performance in-sample on the training dataset is slightly better than for the out-of-sample and true-out-of-sample datasets. Overall, however, they are very poor. This indicates that model cannot estimate, or rather find, the functional relationship between the price inputs and the target-variable. This can have multiple reasons. First indication could be the residual plots provided above. It seems like that there is variance clustering present in the residuals. This indicates that modeling approaches derived from GARCH could be more beneficial here. Secound (this might be more prominent in the residual plot for the test-dataset) there is persistence present in the residuals, meaning that positive residuals tend to follow on positive residuals and vice versa. Those effects could also be reduced by implementing a autoregressive error term (or moving-average lags known from AR(I)MA models). Additionally all the residual plots where the residuals are plottet against the predicted values show a \"V\"-shape. This implies that for higher values of (predicted) target variable the variance of the residuals increase.[TODO: Finish sentence] Another reason for the bad prediction performance could also be missing (input-) information or missing features. This possibility will be explored in more details with the second model in a later chapter."
   ],
   "metadata": {
    "collapsed": false
   }
  },
  {
   "cell_type": "markdown",
   "metadata": {},
   "source": [
    "#### Coin: Etherium Classic"
   ]
  },
  {
   "cell_type": "code",
   "execution_count": null,
   "metadata": {
    "pycharm": {
     "name": "#%%\n"
    }
   },
   "outputs": [],
   "source": [
    "ARRNN_mod = AR_RNN_model(data, arOrder=60, forecastSteps=15, coinID=6, dimRedMethod='Autoencoder', outputDim=15,  trainStart = \"25/05/2021\", evalStart = \"01/06/2021\")\n",
    "\n",
    "ARRNN_mod.setARRNN_model(method=\"Tuner\")"
   ]
  },
  {
   "cell_type": "markdown",
   "source": [
    "For the secound coin the same procedure is done as for the first coin to make the results comparable. The model is set up with ```arOrder = 60```, ```forecastSteps = 15``` and ```outputDim``` set to 15. The trainings window also stays the same as before."
   ],
   "metadata": {
    "collapsed": false
   }
  },
  {
   "cell_type": "code",
   "execution_count": null,
   "outputs": [],
   "source": [
    "ARRNN_mod.tuner.get_best_hyperparameters()[0].values"
   ],
   "metadata": {
    "collapsed": false,
    "pycharm": {
     "name": "#%%\n"
    }
   }
  },
  {
   "cell_type": "markdown",
   "source": [],
   "metadata": {
    "collapsed": false
   }
  },
  {
   "cell_type": "markdown",
   "source": [],
   "metadata": {
    "collapsed": false
   }
  },
  {
   "cell_type": "code",
   "execution_count": null,
   "outputs": [],
   "source": [
    "Y_train_hat, Y_test_hat, Y_eval_hat = ARRNN_mod.getFittedData()\n",
    "Y_train, Y_test, Y_eval = ARRNN_mod.trainDF['Target'], ARRNN_mod.testDF['Target'], ARRNN_mod.evalDF['Target']\n",
    "\n",
    "performanceEval(Y_train, Y_train_hat, \"In-Sample \")\n",
    "performanceEval(Y_test, Y_test_hat, \"Out-of-Sample \")\n",
    "performanceEval(Y_eval, Y_eval_hat, \"True Out-of-Sample \")"
   ],
   "metadata": {
    "collapsed": false,
    "pycharm": {
     "name": "#%%\n"
    }
   }
  },
  {
   "cell_type": "markdown",
   "metadata": {},
   "source": []
  },
  {
   "cell_type": "markdown",
   "source": [
    "| Timewindow | Dataset | Autoencoder | Average |   None  |\n",
    "|:----------:|:-------:|:-----------:|:-------:|:-------:|\n",
    "| 1 week     | train   | 0,0079      | 0,0572  | 0,0303  |\n",
    "|            | test    | 0,0125      | -0,0265 | -0,0054 |\n",
    "|            | eval    | -0,0070     | 0,0053  | 0,0045  |\n",
    "| 1 month    | train   | -0,0008     | 0,0595  | 0,0134  |\n",
    "|            | test    | nan         | -0,0101 | 0,0157  |\n",
    "|            | eval    | nan         | 0,0075  | -0,0006 |\n",
    "\n",
    "*Correlation Results for coinID = 6, different dimension reduction methods and timewindows (or length of dataset)*"
   ],
   "metadata": {
    "collapsed": false
   }
  },
  {
   "cell_type": "markdown",
   "metadata": {},
   "source": [
    "## Indicator Model"
   ]
  },
  {
   "cell_type": "markdown",
   "metadata": {},
   "source": [
    "### General Idea"
   ]
  },
  {
   "cell_type": "markdown",
   "metadata": {},
   "source": [
    "=> TODO: Describe general Idea"
   ]
  },
  {
   "cell_type": "markdown",
   "metadata": {},
   "source": [
    "### Model Class"
   ]
  },
  {
   "cell_type": "code",
   "execution_count": null,
   "metadata": {
    "pycharm": {
     "name": "#%%\n"
    }
   },
   "outputs": [],
   "source": []
  },
  {
   "cell_type": "markdown",
   "metadata": {},
   "source": [
    "=> TODO: Model beschreibung"
   ]
  },
  {
   "cell_type": "markdown",
   "metadata": {},
   "source": [
    "### Results"
   ]
  },
  {
   "cell_type": "markdown",
   "metadata": {},
   "source": [
    "#### Coin 1"
   ]
  },
  {
   "cell_type": "code",
   "execution_count": null,
   "metadata": {
    "pycharm": {
     "name": "#%%\n"
    }
   },
   "outputs": [],
   "source": []
  },
  {
   "cell_type": "markdown",
   "metadata": {},
   "source": [
    " => TODO: Describe results for coin 1"
   ]
  },
  {
   "cell_type": "markdown",
   "metadata": {},
   "source": [
    "#### Coin 2"
   ]
  },
  {
   "cell_type": "code",
   "execution_count": null,
   "metadata": {
    "pycharm": {
     "name": "#%%\n"
    }
   },
   "outputs": [],
   "source": []
  },
  {
   "cell_type": "markdown",
   "metadata": {},
   "source": [
    "=> TODO: Describe results for coin 1"
   ]
  }
 ],
 "metadata": {
  "kernelspec": {
   "display_name": "Python 3 (ipykernel)",
   "language": "python",
   "name": "python3"
  },
  "language_info": {
   "codemirror_mode": {
    "name": "ipython",
    "version": 3
   },
   "file_extension": ".py",
   "mimetype": "text/x-python",
   "name": "python",
   "nbconvert_exporter": "python",
   "pygments_lexer": "ipython3",
   "version": "3.9.9"
  }
 },
 "nbformat": 4,
 "nbformat_minor": 1
}